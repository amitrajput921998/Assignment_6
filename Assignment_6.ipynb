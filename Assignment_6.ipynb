{
 "cells": [
  {
   "cell_type": "markdown",
   "id": "8f76645e",
   "metadata": {},
   "source": [
    "1. What are escape characters, and how do you use them?"
   ]
  },
  {
   "cell_type": "markdown",
   "id": "31c2030a",
   "metadata": {},
   "source": [
    "Ans-1) An escape character is a backslash \\ followed by the character you want to insert."
   ]
  },
  {
   "cell_type": "code",
   "execution_count": 3,
   "id": "1d4d83c7",
   "metadata": {},
   "outputs": [
    {
     "name": "stdout",
     "output_type": "stream",
     "text": [
      "This is \"Amit's\" pen\n"
     ]
    }
   ],
   "source": [
    "# eg\n",
    "txt=\"This is \\\"Amit's\\\" pen\"\n",
    "print(txt)"
   ]
  },
  {
   "cell_type": "markdown",
   "id": "a2dded58",
   "metadata": {},
   "source": [
    "2. What do the escape characters n and t stand for?"
   ]
  },
  {
   "cell_type": "markdown",
   "id": "e5fa4bcd",
   "metadata": {},
   "source": [
    "Ans-2) In escape characters n stand for new line and t stand for tab."
   ]
  },
  {
   "cell_type": "markdown",
   "id": "7ceecc6e",
   "metadata": {},
   "source": [
    "3. What is the way to include backslash characters in a string?"
   ]
  },
  {
   "cell_type": "code",
   "execution_count": 5,
   "id": "bb839df1",
   "metadata": {},
   "outputs": [
    {
     "name": "stdout",
     "output_type": "stream",
     "text": [
      "This is a line \n",
      " how are you \n"
     ]
    }
   ],
   "source": [
    "# Ans-3)\n",
    "t=\"This is a line \\n how are you \"\n",
    "print(t)\n"
   ]
  },
  {
   "cell_type": "markdown",
   "id": "a99adf5c",
   "metadata": {},
   "source": [
    "4. The string \"Howl's Moving Castle\" is a correct value. Why isn't the single quote character in the word Howl's not escaped a problem?"
   ]
  },
  {
   "cell_type": "markdown",
   "id": "1dd5f549",
   "metadata": {},
   "source": [
    "Ans-4) As the string Howl's have single quote will work fine as in the start and end double quote has been used in the string."
   ]
  },
  {
   "cell_type": "markdown",
   "id": "ae3f309d",
   "metadata": {},
   "source": [
    "5. How do you write a string of newlines if you don't want to use the n character?"
   ]
  },
  {
   "cell_type": "markdown",
   "id": "c89d39ca",
   "metadata": {},
   "source": [
    "Ans-5) You can used end parameter to print newlines for a string"
   ]
  },
  {
   "cell_type": "code",
   "execution_count": 6,
   "id": "055bfa63",
   "metadata": {},
   "outputs": [
    {
     "name": "stdout",
     "output_type": "stream",
     "text": [
      "hello how are you "
     ]
    }
   ],
   "source": [
    "# Eg-5\n",
    "a=\"hello how are you\"\n",
    "print(a,end=\" \")"
   ]
  },
  {
   "cell_type": "markdown",
   "id": "b46b14b1",
   "metadata": {},
   "source": [
    "6. What are the values of the given expressions?"
   ]
  },
  {
   "cell_type": "code",
   "execution_count": 9,
   "id": "db44639e",
   "metadata": {},
   "outputs": [
    {
     "name": "stdout",
     "output_type": "stream",
     "text": [
      "e\n"
     ]
    }
   ],
   "source": [
    "a='Hello, world!'\n",
    "print(a[1])"
   ]
  },
  {
   "cell_type": "code",
   "execution_count": 10,
   "id": "1e68826e",
   "metadata": {},
   "outputs": [
    {
     "name": "stdout",
     "output_type": "stream",
     "text": [
      "Hello\n"
     ]
    }
   ],
   "source": [
    "b='Hello, world!'\n",
    "print(b[0:5])"
   ]
  },
  {
   "cell_type": "code",
   "execution_count": 11,
   "id": "6346720e",
   "metadata": {},
   "outputs": [
    {
     "name": "stdout",
     "output_type": "stream",
     "text": [
      "Hello\n"
     ]
    }
   ],
   "source": [
    "c='Hello, world!'\n",
    "print(c[:5])"
   ]
  },
  {
   "cell_type": "code",
   "execution_count": 12,
   "id": "47ad6ce9",
   "metadata": {},
   "outputs": [
    {
     "name": "stdout",
     "output_type": "stream",
     "text": [
      "lo, world!\n"
     ]
    }
   ],
   "source": [
    "d='Hello, world!'\n",
    "print(d[3:])"
   ]
  },
  {
   "cell_type": "markdown",
   "id": "5b8c7667",
   "metadata": {},
   "source": [
    "7. What are the values of the following expressions?"
   ]
  },
  {
   "cell_type": "code",
   "execution_count": 13,
   "id": "b2f216e1",
   "metadata": {},
   "outputs": [
    {
     "name": "stdout",
     "output_type": "stream",
     "text": [
      "HELLO\n"
     ]
    }
   ],
   "source": [
    "print('Hello'.upper())"
   ]
  },
  {
   "cell_type": "code",
   "execution_count": 14,
   "id": "d647358d",
   "metadata": {},
   "outputs": [
    {
     "name": "stdout",
     "output_type": "stream",
     "text": [
      "True\n"
     ]
    }
   ],
   "source": [
    "print('Hello'.upper().isupper())"
   ]
  },
  {
   "cell_type": "code",
   "execution_count": 15,
   "id": "956ee3ca",
   "metadata": {},
   "outputs": [
    {
     "name": "stdout",
     "output_type": "stream",
     "text": [
      "hello\n"
     ]
    }
   ],
   "source": [
    "print('Hello'.upper().lower())"
   ]
  },
  {
   "cell_type": "markdown",
   "id": "a30a9a8f",
   "metadata": {},
   "source": [
    "8. What are the values of the following expressions?"
   ]
  },
  {
   "cell_type": "code",
   "execution_count": 16,
   "id": "00bf335a",
   "metadata": {},
   "outputs": [
    {
     "name": "stdout",
     "output_type": "stream",
     "text": [
      "['Remember,', 'remember,', 'the', 'fifth', 'of', 'July.']\n"
     ]
    }
   ],
   "source": [
    "print('Remember, remember, the fifth of July.'.split())"
   ]
  },
  {
   "cell_type": "code",
   "execution_count": 17,
   "id": "3acb78ce",
   "metadata": {},
   "outputs": [
    {
     "name": "stdout",
     "output_type": "stream",
     "text": [
      "There-can-only-one.\n"
     ]
    }
   ],
   "source": [
    "print('-'.join('There can only one.'.split()))"
   ]
  },
  {
   "cell_type": "markdown",
   "id": "faa59278",
   "metadata": {},
   "source": [
    "9. What are the methods for right-justifying, left-justifying, and centering a string?"
   ]
  },
  {
   "cell_type": "markdown",
   "id": "a24ec1aa",
   "metadata": {},
   "source": [
    "Ans-9) Method for right-justifying is rjust(), for left-justifying is ljust and for centering is center()"
   ]
  },
  {
   "cell_type": "markdown",
   "id": "03e0b05f",
   "metadata": {},
   "source": [
    "10. What is the best way to remove whitespace characters from the start or end?"
   ]
  },
  {
   "cell_type": "markdown",
   "id": "d6c96042",
   "metadata": {},
   "source": [
    "Ans-10 Strip() function is used to remove whitespace characters from start or end"
   ]
  },
  {
   "cell_type": "code",
   "execution_count": 18,
   "id": "87fcc1e7",
   "metadata": {},
   "outputs": [
    {
     "name": "stdout",
     "output_type": "stream",
     "text": [
      "hello how are you\n"
     ]
    }
   ],
   "source": [
    "# eg=10\n",
    "txt=\"  hello how are you   \"\n",
    "print(txt.strip())"
   ]
  }
 ],
 "metadata": {
  "kernelspec": {
   "display_name": "Python 3 (ipykernel)",
   "language": "python",
   "name": "python3"
  },
  "language_info": {
   "codemirror_mode": {
    "name": "ipython",
    "version": 3
   },
   "file_extension": ".py",
   "mimetype": "text/x-python",
   "name": "python",
   "nbconvert_exporter": "python",
   "pygments_lexer": "ipython3",
   "version": "3.9.7"
  }
 },
 "nbformat": 4,
 "nbformat_minor": 5
}
